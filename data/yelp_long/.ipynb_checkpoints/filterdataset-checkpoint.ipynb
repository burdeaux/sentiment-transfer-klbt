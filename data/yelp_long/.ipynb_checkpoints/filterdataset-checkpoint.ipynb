{
 "cells": [
  {
   "cell_type": "code",
   "execution_count": 1,
   "id": "16432ec5",
   "metadata": {},
   "outputs": [],
   "source": [
    "import csv\n",
    "import pandas as pd\n",
    "import json\n",
    "import numpy as np\n",
    "from pymongo import MongoClient\n",
    "\n",
    "csv_file=\"/home/rtx2070s/exp/deep-latent-sequence-model/data/yelp_long/yelp_academic_dataset_review.json\"\n",
    "#too heavy\n",
    "# with open(csv_file, 'r') as f:\n",
    "#     js_file=json.load(f)\n",
    "#     print(js_file)\n"
   ]
  },
  {
   "cell_type": "code",
   "execution_count": 2,
   "id": "ed30c57b",
   "metadata": {},
   "outputs": [
    {
     "name": "stdout",
     "output_type": "stream",
     "text": [
      "                        _id               review_id                 user_id  \\\n",
      "0  6225d46862b5a7859ec3e87c  NDhkzczKjLshODbqDoNLSg  eC5evKn1TWDyHCyQAwguUw   \n",
      "1  6225d46862b5a7859ec3e87d  2l_TDrQ7p-5tANOyiOlkLQ  LWUnzwK0ILquLLZcHHE1Mw   \n",
      "2  6225d46862b5a7859ec3e87e  8bFej1QE5LXp4O05qjGqXA  YoVfDbnISlW0f7abNQACIg   \n",
      "3  6225d46862b5a7859ec3e87f  J4a2TuhDasjn2k3wWtHZnQ  RNm_RWkcd02Li2mKPRe7Eg   \n",
      "4  6225d46862b5a7859ec3e880  T5fAqjjFooT4V0OeZyuk1w  SFQ1jcnGguO0LYWnbbftAA   \n",
      "\n",
      "              business_id  stars  useful  funny  cool  \\\n",
      "0  _sS2LBIGNT5NQb6PD1Vtjw    5.0       0      0     0   \n",
      "1  mD-A9KOWADXvfrZfwDs-jw    4.0       1      0     0   \n",
      "2  RA4V8pr014UyUbDvI-LW2A    4.0       1      0     0   \n",
      "3  xGXzsc-hzam-VArK6eTvtw    1.0       2      0     0   \n",
      "4  0AzLzHfOJgL7ROwhdww2ew    2.0       1      1     1   \n",
      "\n",
      "                                                text                 date  \n",
      "0  I called WVM on the recommendation of a couple...  2013-05-28 20:38:06  \n",
      "1  I am definitely a fan of Sports Authority.  Th...  2012-05-28 15:00:47  \n",
      "2  This store is pretty good. Not as great as Wal...  2015-07-03 20:38:25  \n",
      "3  This place used to be a cool, chill place. Now...  2018-01-21 04:41:03  \n",
      "4  I've stayed at many Marriott and Renaissance M...  2010-01-08 02:29:15  \n"
     ]
    }
   ],
   "source": [
    "mongo_client=MongoClient('localhost',27017)\n",
    "dblist=mongo_client.list_database_names()\n",
    "\n",
    "db = mongo_client.yelpreview\n",
    "col=db.yelp_academic_dataset_review\n",
    "\n",
    "\n",
    "mongo_docs = col.find()\n",
    "#easier implement\n",
    "entries=list(mongo_docs)\n",
    "entries[:5]\n",
    "df=pd.DataFrame(entries)\n",
    "print(df.head())"
   ]
  },
  {
   "cell_type": "code",
   "execution_count": 8,
   "id": "5ff35c5f",
   "metadata": {},
   "outputs": [
    {
     "data": {
      "text/plain": [
       "0          I called WVM on the recommendation of a couple...\n",
       "1          I am definitely a fan of Sports Authority.  Th...\n",
       "2          This store is pretty good. Not as great as Wal...\n",
       "3          This place used to be a cool, chill place. Now...\n",
       "4          I've stayed at many Marriott and Renaissance M...\n",
       "                                 ...                        \n",
       "8635398    This was absolutely the most egregious display...\n",
       "8635399    This is so highly rated for a reason. If you'r...\n",
       "8635400    This used to be my car wash of choice. They di...\n",
       "8635401    This place is a wonderland of Asian delight. I...\n",
       "8635402    In December, I called in (as a returning custo...\n",
       "Name: text, Length: 8635403, dtype: object"
      ]
     },
     "execution_count": 8,
     "metadata": {},
     "output_type": "execute_result"
    }
   ],
   "source": [
    "df['text']"
   ]
  },
  {
   "cell_type": "code",
   "execution_count": 9,
   "id": "bcb40028",
   "metadata": {},
   "outputs": [],
   "source": [
    "df_ts=pd.DataFrame(df,columns=['stars','text'])"
   ]
  },
  {
   "cell_type": "code",
   "execution_count": 10,
   "id": "6aeacd1f",
   "metadata": {},
   "outputs": [
    {
     "data": {
      "text/html": [
       "<div>\n",
       "<style scoped>\n",
       "    .dataframe tbody tr th:only-of-type {\n",
       "        vertical-align: middle;\n",
       "    }\n",
       "\n",
       "    .dataframe tbody tr th {\n",
       "        vertical-align: top;\n",
       "    }\n",
       "\n",
       "    .dataframe thead th {\n",
       "        text-align: right;\n",
       "    }\n",
       "</style>\n",
       "<table border=\"1\" class=\"dataframe\">\n",
       "  <thead>\n",
       "    <tr style=\"text-align: right;\">\n",
       "      <th></th>\n",
       "      <th>stars</th>\n",
       "      <th>text</th>\n",
       "    </tr>\n",
       "  </thead>\n",
       "  <tbody>\n",
       "    <tr>\n",
       "      <th>0</th>\n",
       "      <td>5.0</td>\n",
       "      <td>I called WVM on the recommendation of a couple...</td>\n",
       "    </tr>\n",
       "    <tr>\n",
       "      <th>1</th>\n",
       "      <td>4.0</td>\n",
       "      <td>I am definitely a fan of Sports Authority.  Th...</td>\n",
       "    </tr>\n",
       "    <tr>\n",
       "      <th>2</th>\n",
       "      <td>4.0</td>\n",
       "      <td>This store is pretty good. Not as great as Wal...</td>\n",
       "    </tr>\n",
       "    <tr>\n",
       "      <th>3</th>\n",
       "      <td>1.0</td>\n",
       "      <td>This place used to be a cool, chill place. Now...</td>\n",
       "    </tr>\n",
       "    <tr>\n",
       "      <th>4</th>\n",
       "      <td>2.0</td>\n",
       "      <td>I've stayed at many Marriott and Renaissance M...</td>\n",
       "    </tr>\n",
       "    <tr>\n",
       "      <th>...</th>\n",
       "      <td>...</td>\n",
       "      <td>...</td>\n",
       "    </tr>\n",
       "    <tr>\n",
       "      <th>8635398</th>\n",
       "      <td>1.0</td>\n",
       "      <td>This was absolutely the most egregious display...</td>\n",
       "    </tr>\n",
       "    <tr>\n",
       "      <th>8635399</th>\n",
       "      <td>5.0</td>\n",
       "      <td>This is so highly rated for a reason. If you'r...</td>\n",
       "    </tr>\n",
       "    <tr>\n",
       "      <th>8635400</th>\n",
       "      <td>2.0</td>\n",
       "      <td>This used to be my car wash of choice. They di...</td>\n",
       "    </tr>\n",
       "    <tr>\n",
       "      <th>8635401</th>\n",
       "      <td>5.0</td>\n",
       "      <td>This place is a wonderland of Asian delight. I...</td>\n",
       "    </tr>\n",
       "    <tr>\n",
       "      <th>8635402</th>\n",
       "      <td>1.0</td>\n",
       "      <td>In December, I called in (as a returning custo...</td>\n",
       "    </tr>\n",
       "  </tbody>\n",
       "</table>\n",
       "<p>8635403 rows × 2 columns</p>\n",
       "</div>"
      ],
      "text/plain": [
       "         stars                                               text\n",
       "0          5.0  I called WVM on the recommendation of a couple...\n",
       "1          4.0  I am definitely a fan of Sports Authority.  Th...\n",
       "2          4.0  This store is pretty good. Not as great as Wal...\n",
       "3          1.0  This place used to be a cool, chill place. Now...\n",
       "4          2.0  I've stayed at many Marriott and Renaissance M...\n",
       "...        ...                                                ...\n",
       "8635398    1.0  This was absolutely the most egregious display...\n",
       "8635399    5.0  This is so highly rated for a reason. If you'r...\n",
       "8635400    2.0  This used to be my car wash of choice. They di...\n",
       "8635401    5.0  This place is a wonderland of Asian delight. I...\n",
       "8635402    1.0  In December, I called in (as a returning custo...\n",
       "\n",
       "[8635403 rows x 2 columns]"
      ]
     },
     "execution_count": 10,
     "metadata": {},
     "output_type": "execute_result"
    }
   ],
   "source": [
    "df_ts"
   ]
  },
  {
   "cell_type": "code",
   "execution_count": 13,
   "id": "bcdc6fa0",
   "metadata": {},
   "outputs": [
    {
     "data": {
      "text/html": [
       "<div>\n",
       "<style scoped>\n",
       "    .dataframe tbody tr th:only-of-type {\n",
       "        vertical-align: middle;\n",
       "    }\n",
       "\n",
       "    .dataframe tbody tr th {\n",
       "        vertical-align: top;\n",
       "    }\n",
       "\n",
       "    .dataframe thead th {\n",
       "        text-align: right;\n",
       "    }\n",
       "</style>\n",
       "<table border=\"1\" class=\"dataframe\">\n",
       "  <thead>\n",
       "    <tr style=\"text-align: right;\">\n",
       "      <th></th>\n",
       "      <th>stars</th>\n",
       "      <th>text</th>\n",
       "    </tr>\n",
       "  </thead>\n",
       "  <tbody>\n",
       "    <tr>\n",
       "      <th>3</th>\n",
       "      <td>1.0</td>\n",
       "      <td>This place used to be a cool, chill place. Now...</td>\n",
       "    </tr>\n",
       "    <tr>\n",
       "      <th>6</th>\n",
       "      <td>1.0</td>\n",
       "      <td>They NEVER seem to get our \\norder correct, se...</td>\n",
       "    </tr>\n",
       "    <tr>\n",
       "      <th>9</th>\n",
       "      <td>1.0</td>\n",
       "      <td>I wish I could give them zero stars. The call ...</td>\n",
       "    </tr>\n",
       "    <tr>\n",
       "      <th>11</th>\n",
       "      <td>1.0</td>\n",
       "      <td>Great coffee and pastries. Baristas are excell...</td>\n",
       "    </tr>\n",
       "    <tr>\n",
       "      <th>26</th>\n",
       "      <td>1.0</td>\n",
       "      <td>Almost desolate restaurant and dingy evironmen...</td>\n",
       "    </tr>\n",
       "    <tr>\n",
       "      <th>...</th>\n",
       "      <td>...</td>\n",
       "      <td>...</td>\n",
       "    </tr>\n",
       "    <tr>\n",
       "      <th>8635359</th>\n",
       "      <td>1.0</td>\n",
       "      <td>I have been a loyal customer of this pizza pla...</td>\n",
       "    </tr>\n",
       "    <tr>\n",
       "      <th>8635370</th>\n",
       "      <td>1.0</td>\n",
       "      <td>Wouldn't even let a pregnant woman use the bat...</td>\n",
       "    </tr>\n",
       "    <tr>\n",
       "      <th>8635396</th>\n",
       "      <td>1.0</td>\n",
       "      <td>This guy is a moron that will stalk and harass...</td>\n",
       "    </tr>\n",
       "    <tr>\n",
       "      <th>8635398</th>\n",
       "      <td>1.0</td>\n",
       "      <td>This was absolutely the most egregious display...</td>\n",
       "    </tr>\n",
       "    <tr>\n",
       "      <th>8635402</th>\n",
       "      <td>1.0</td>\n",
       "      <td>In December, I called in (as a returning custo...</td>\n",
       "    </tr>\n",
       "  </tbody>\n",
       "</table>\n",
       "<p>1262800 rows × 2 columns</p>\n",
       "</div>"
      ],
      "text/plain": [
       "         stars                                               text\n",
       "3          1.0  This place used to be a cool, chill place. Now...\n",
       "6          1.0  They NEVER seem to get our \\norder correct, se...\n",
       "9          1.0  I wish I could give them zero stars. The call ...\n",
       "11         1.0  Great coffee and pastries. Baristas are excell...\n",
       "26         1.0  Almost desolate restaurant and dingy evironmen...\n",
       "...        ...                                                ...\n",
       "8635359    1.0  I have been a loyal customer of this pizza pla...\n",
       "8635370    1.0  Wouldn't even let a pregnant woman use the bat...\n",
       "8635396    1.0  This guy is a moron that will stalk and harass...\n",
       "8635398    1.0  This was absolutely the most egregious display...\n",
       "8635402    1.0  In December, I called in (as a returning custo...\n",
       "\n",
       "[1262800 rows x 2 columns]"
      ]
     },
     "execution_count": 13,
     "metadata": {},
     "output_type": "execute_result"
    }
   ],
   "source": [
    "neg_df=df_ts.loc[df_ts['stars']==1.0]\n",
    "neg_df"
   ]
  },
  {
   "cell_type": "code",
   "execution_count": 14,
   "id": "5507c5ce",
   "metadata": {},
   "outputs": [
    {
     "name": "stderr",
     "output_type": "stream",
     "text": [
      "/tmp/ipykernel_14410/969301467.py:1: SettingWithCopyWarning: \n",
      "A value is trying to be set on a copy of a slice from a DataFrame.\n",
      "Try using .loc[row_indexer,col_indexer] = value instead\n",
      "\n",
      "See the caveats in the documentation: https://pandas.pydata.org/pandas-docs/stable/user_guide/indexing.html#returning-a-view-versus-a-copy\n",
      "  neg_df['label']=0\n"
     ]
    },
    {
     "data": {
      "text/html": [
       "<div>\n",
       "<style scoped>\n",
       "    .dataframe tbody tr th:only-of-type {\n",
       "        vertical-align: middle;\n",
       "    }\n",
       "\n",
       "    .dataframe tbody tr th {\n",
       "        vertical-align: top;\n",
       "    }\n",
       "\n",
       "    .dataframe thead th {\n",
       "        text-align: right;\n",
       "    }\n",
       "</style>\n",
       "<table border=\"1\" class=\"dataframe\">\n",
       "  <thead>\n",
       "    <tr style=\"text-align: right;\">\n",
       "      <th></th>\n",
       "      <th>stars</th>\n",
       "      <th>text</th>\n",
       "      <th>label</th>\n",
       "    </tr>\n",
       "  </thead>\n",
       "  <tbody>\n",
       "    <tr>\n",
       "      <th>3</th>\n",
       "      <td>1.0</td>\n",
       "      <td>This place used to be a cool, chill place. Now...</td>\n",
       "      <td>0</td>\n",
       "    </tr>\n",
       "    <tr>\n",
       "      <th>6</th>\n",
       "      <td>1.0</td>\n",
       "      <td>They NEVER seem to get our \\norder correct, se...</td>\n",
       "      <td>0</td>\n",
       "    </tr>\n",
       "    <tr>\n",
       "      <th>9</th>\n",
       "      <td>1.0</td>\n",
       "      <td>I wish I could give them zero stars. The call ...</td>\n",
       "      <td>0</td>\n",
       "    </tr>\n",
       "    <tr>\n",
       "      <th>11</th>\n",
       "      <td>1.0</td>\n",
       "      <td>Great coffee and pastries. Baristas are excell...</td>\n",
       "      <td>0</td>\n",
       "    </tr>\n",
       "    <tr>\n",
       "      <th>26</th>\n",
       "      <td>1.0</td>\n",
       "      <td>Almost desolate restaurant and dingy evironmen...</td>\n",
       "      <td>0</td>\n",
       "    </tr>\n",
       "    <tr>\n",
       "      <th>...</th>\n",
       "      <td>...</td>\n",
       "      <td>...</td>\n",
       "      <td>...</td>\n",
       "    </tr>\n",
       "    <tr>\n",
       "      <th>8635359</th>\n",
       "      <td>1.0</td>\n",
       "      <td>I have been a loyal customer of this pizza pla...</td>\n",
       "      <td>0</td>\n",
       "    </tr>\n",
       "    <tr>\n",
       "      <th>8635370</th>\n",
       "      <td>1.0</td>\n",
       "      <td>Wouldn't even let a pregnant woman use the bat...</td>\n",
       "      <td>0</td>\n",
       "    </tr>\n",
       "    <tr>\n",
       "      <th>8635396</th>\n",
       "      <td>1.0</td>\n",
       "      <td>This guy is a moron that will stalk and harass...</td>\n",
       "      <td>0</td>\n",
       "    </tr>\n",
       "    <tr>\n",
       "      <th>8635398</th>\n",
       "      <td>1.0</td>\n",
       "      <td>This was absolutely the most egregious display...</td>\n",
       "      <td>0</td>\n",
       "    </tr>\n",
       "    <tr>\n",
       "      <th>8635402</th>\n",
       "      <td>1.0</td>\n",
       "      <td>In December, I called in (as a returning custo...</td>\n",
       "      <td>0</td>\n",
       "    </tr>\n",
       "  </tbody>\n",
       "</table>\n",
       "<p>1262800 rows × 3 columns</p>\n",
       "</div>"
      ],
      "text/plain": [
       "         stars                                               text  label\n",
       "3          1.0  This place used to be a cool, chill place. Now...      0\n",
       "6          1.0  They NEVER seem to get our \\norder correct, se...      0\n",
       "9          1.0  I wish I could give them zero stars. The call ...      0\n",
       "11         1.0  Great coffee and pastries. Baristas are excell...      0\n",
       "26         1.0  Almost desolate restaurant and dingy evironmen...      0\n",
       "...        ...                                                ...    ...\n",
       "8635359    1.0  I have been a loyal customer of this pizza pla...      0\n",
       "8635370    1.0  Wouldn't even let a pregnant woman use the bat...      0\n",
       "8635396    1.0  This guy is a moron that will stalk and harass...      0\n",
       "8635398    1.0  This was absolutely the most egregious display...      0\n",
       "8635402    1.0  In December, I called in (as a returning custo...      0\n",
       "\n",
       "[1262800 rows x 3 columns]"
      ]
     },
     "execution_count": 14,
     "metadata": {},
     "output_type": "execute_result"
    }
   ],
   "source": [
    "neg_df['label']=0\n",
    "neg_df"
   ]
  },
  {
   "cell_type": "code",
   "execution_count": 16,
   "id": "0f7ee727",
   "metadata": {},
   "outputs": [
    {
     "data": {
      "text/html": [
       "<div>\n",
       "<style scoped>\n",
       "    .dataframe tbody tr th:only-of-type {\n",
       "        vertical-align: middle;\n",
       "    }\n",
       "\n",
       "    .dataframe tbody tr th {\n",
       "        vertical-align: top;\n",
       "    }\n",
       "\n",
       "    .dataframe thead th {\n",
       "        text-align: right;\n",
       "    }\n",
       "</style>\n",
       "<table border=\"1\" class=\"dataframe\">\n",
       "  <thead>\n",
       "    <tr style=\"text-align: right;\">\n",
       "      <th></th>\n",
       "      <th>stars</th>\n",
       "      <th>text</th>\n",
       "    </tr>\n",
       "  </thead>\n",
       "  <tbody>\n",
       "    <tr>\n",
       "      <th>0</th>\n",
       "      <td>5.0</td>\n",
       "      <td>I called WVM on the recommendation of a couple...</td>\n",
       "    </tr>\n",
       "    <tr>\n",
       "      <th>5</th>\n",
       "      <td>5.0</td>\n",
       "      <td>I work in the Pru and this is the most afforda...</td>\n",
       "    </tr>\n",
       "    <tr>\n",
       "      <th>7</th>\n",
       "      <td>5.0</td>\n",
       "      <td>This is a five-star restaurant if ever I have ...</td>\n",
       "    </tr>\n",
       "    <tr>\n",
       "      <th>15</th>\n",
       "      <td>5.0</td>\n",
       "      <td>I loved everything about this place. I've only...</td>\n",
       "    </tr>\n",
       "    <tr>\n",
       "      <th>18</th>\n",
       "      <td>5.0</td>\n",
       "      <td>Definitely 5 stars for the donuts.  Our family...</td>\n",
       "    </tr>\n",
       "    <tr>\n",
       "      <th>...</th>\n",
       "      <td>...</td>\n",
       "      <td>...</td>\n",
       "    </tr>\n",
       "    <tr>\n",
       "      <th>8635394</th>\n",
       "      <td>5.0</td>\n",
       "      <td>Best pizza in the neighborhood!!! Love the thi...</td>\n",
       "    </tr>\n",
       "    <tr>\n",
       "      <th>8635395</th>\n",
       "      <td>5.0</td>\n",
       "      <td>Yummy, great chew on the bagel\\nFriendly staff...</td>\n",
       "    </tr>\n",
       "    <tr>\n",
       "      <th>8635397</th>\n",
       "      <td>5.0</td>\n",
       "      <td>Yes please! We had the Arepas falafel style an...</td>\n",
       "    </tr>\n",
       "    <tr>\n",
       "      <th>8635399</th>\n",
       "      <td>5.0</td>\n",
       "      <td>This is so highly rated for a reason. If you'r...</td>\n",
       "    </tr>\n",
       "    <tr>\n",
       "      <th>8635401</th>\n",
       "      <td>5.0</td>\n",
       "      <td>This place is a wonderland of Asian delight. I...</td>\n",
       "    </tr>\n",
       "  </tbody>\n",
       "</table>\n",
       "<p>3814532 rows × 2 columns</p>\n",
       "</div>"
      ],
      "text/plain": [
       "         stars                                               text\n",
       "0          5.0  I called WVM on the recommendation of a couple...\n",
       "5          5.0  I work in the Pru and this is the most afforda...\n",
       "7          5.0  This is a five-star restaurant if ever I have ...\n",
       "15         5.0  I loved everything about this place. I've only...\n",
       "18         5.0  Definitely 5 stars for the donuts.  Our family...\n",
       "...        ...                                                ...\n",
       "8635394    5.0  Best pizza in the neighborhood!!! Love the thi...\n",
       "8635395    5.0  Yummy, great chew on the bagel\\nFriendly staff...\n",
       "8635397    5.0  Yes please! We had the Arepas falafel style an...\n",
       "8635399    5.0  This is so highly rated for a reason. If you'r...\n",
       "8635401    5.0  This place is a wonderland of Asian delight. I...\n",
       "\n",
       "[3814532 rows x 2 columns]"
      ]
     },
     "execution_count": 16,
     "metadata": {},
     "output_type": "execute_result"
    }
   ],
   "source": [
    "pos_df=df_ts.loc[df_ts['stars']==5.0]\n",
    "pos_df"
   ]
  },
  {
   "cell_type": "code",
   "execution_count": 17,
   "id": "3ff71fba",
   "metadata": {},
   "outputs": [
    {
     "name": "stderr",
     "output_type": "stream",
     "text": [
      "/tmp/ipykernel_14410/2336564515.py:1: SettingWithCopyWarning: \n",
      "A value is trying to be set on a copy of a slice from a DataFrame.\n",
      "Try using .loc[row_indexer,col_indexer] = value instead\n",
      "\n",
      "See the caveats in the documentation: https://pandas.pydata.org/pandas-docs/stable/user_guide/indexing.html#returning-a-view-versus-a-copy\n",
      "  pos_df['label']=1\n"
     ]
    }
   ],
   "source": [
    "pos_df['label']=1"
   ]
  },
  {
   "cell_type": "code",
   "execution_count": 24,
   "id": "cda30462",
   "metadata": {},
   "outputs": [
    {
     "data": {
      "text/html": [
       "<div>\n",
       "<style scoped>\n",
       "    .dataframe tbody tr th:only-of-type {\n",
       "        vertical-align: middle;\n",
       "    }\n",
       "\n",
       "    .dataframe tbody tr th {\n",
       "        vertical-align: top;\n",
       "    }\n",
       "\n",
       "    .dataframe thead th {\n",
       "        text-align: right;\n",
       "    }\n",
       "</style>\n",
       "<table border=\"1\" class=\"dataframe\">\n",
       "  <thead>\n",
       "    <tr style=\"text-align: right;\">\n",
       "      <th></th>\n",
       "      <th>stars</th>\n",
       "      <th>text</th>\n",
       "      <th>label</th>\n",
       "    </tr>\n",
       "  </thead>\n",
       "  <tbody>\n",
       "    <tr>\n",
       "      <th>0</th>\n",
       "      <td>5.0</td>\n",
       "      <td>I called WVM on the recommendation of a couple...</td>\n",
       "      <td>1.0</td>\n",
       "    </tr>\n",
       "    <tr>\n",
       "      <th>1</th>\n",
       "      <td>4.0</td>\n",
       "      <td>I am definitely a fan of Sports Authority.  Th...</td>\n",
       "      <td>NaN</td>\n",
       "    </tr>\n",
       "    <tr>\n",
       "      <th>2</th>\n",
       "      <td>4.0</td>\n",
       "      <td>This store is pretty good. Not as great as Wal...</td>\n",
       "      <td>NaN</td>\n",
       "    </tr>\n",
       "    <tr>\n",
       "      <th>3</th>\n",
       "      <td>1.0</td>\n",
       "      <td>This place used to be a cool, chill place. Now...</td>\n",
       "      <td>0.0</td>\n",
       "    </tr>\n",
       "    <tr>\n",
       "      <th>4</th>\n",
       "      <td>2.0</td>\n",
       "      <td>I've stayed at many Marriott and Renaissance M...</td>\n",
       "      <td>NaN</td>\n",
       "    </tr>\n",
       "    <tr>\n",
       "      <th>...</th>\n",
       "      <td>...</td>\n",
       "      <td>...</td>\n",
       "      <td>...</td>\n",
       "    </tr>\n",
       "    <tr>\n",
       "      <th>8635398</th>\n",
       "      <td>1.0</td>\n",
       "      <td>This was absolutely the most egregious display...</td>\n",
       "      <td>0.0</td>\n",
       "    </tr>\n",
       "    <tr>\n",
       "      <th>8635399</th>\n",
       "      <td>5.0</td>\n",
       "      <td>This is so highly rated for a reason. If you'r...</td>\n",
       "      <td>1.0</td>\n",
       "    </tr>\n",
       "    <tr>\n",
       "      <th>8635400</th>\n",
       "      <td>2.0</td>\n",
       "      <td>This used to be my car wash of choice. They di...</td>\n",
       "      <td>NaN</td>\n",
       "    </tr>\n",
       "    <tr>\n",
       "      <th>8635401</th>\n",
       "      <td>5.0</td>\n",
       "      <td>This place is a wonderland of Asian delight. I...</td>\n",
       "      <td>1.0</td>\n",
       "    </tr>\n",
       "    <tr>\n",
       "      <th>8635402</th>\n",
       "      <td>1.0</td>\n",
       "      <td>In December, I called in (as a returning custo...</td>\n",
       "      <td>0.0</td>\n",
       "    </tr>\n",
       "  </tbody>\n",
       "</table>\n",
       "<p>8635403 rows × 3 columns</p>\n",
       "</div>"
      ],
      "text/plain": [
       "         stars                                               text  label\n",
       "0          5.0  I called WVM on the recommendation of a couple...    1.0\n",
       "1          4.0  I am definitely a fan of Sports Authority.  Th...    NaN\n",
       "2          4.0  This store is pretty good. Not as great as Wal...    NaN\n",
       "3          1.0  This place used to be a cool, chill place. Now...    0.0\n",
       "4          2.0  I've stayed at many Marriott and Renaissance M...    NaN\n",
       "...        ...                                                ...    ...\n",
       "8635398    1.0  This was absolutely the most egregious display...    0.0\n",
       "8635399    5.0  This is so highly rated for a reason. If you'r...    1.0\n",
       "8635400    2.0  This used to be my car wash of choice. They di...    NaN\n",
       "8635401    5.0  This place is a wonderland of Asian delight. I...    1.0\n",
       "8635402    1.0  In December, I called in (as a returning custo...    0.0\n",
       "\n",
       "[8635403 rows x 3 columns]"
      ]
     },
     "execution_count": 24,
     "metadata": {},
     "output_type": "execute_result"
    }
   ],
   "source": [
    "df_ts.loc[df_ts['stars']==5.0,'label']=1\n",
    "df_ts.loc[df_ts['stars']==1.0,'label']=0\n",
    "df_ts"
   ]
  },
  {
   "cell_type": "code",
   "execution_count": 34,
   "id": "3e3a144a",
   "metadata": {},
   "outputs": [],
   "source": [
    "senti_df=df_ts.loc[df_ts['label'].notnull()]"
   ]
  },
  {
   "cell_type": "code",
   "execution_count": 35,
   "id": "e1b8ca01",
   "metadata": {},
   "outputs": [],
   "source": [
    "senti_df=senti_df.sort_values(by='stars')"
   ]
  },
  {
   "cell_type": "code",
   "execution_count": 37,
   "id": "a74cbea6",
   "metadata": {},
   "outputs": [],
   "source": [
    "senti_head=senti_df.head(10)"
   ]
  },
  {
   "cell_type": "code",
   "execution_count": 43,
   "id": "4dc3d2a1",
   "metadata": {
    "scrolled": true
   },
   "outputs": [],
   "source": [
    "senti_df.to_csv('senti_csv' ,columns=['stars','text','label'],index=False,)"
   ]
  },
  {
   "cell_type": "code",
   "execution_count": null,
   "id": "4bc4bde9",
   "metadata": {},
   "outputs": [],
   "source": []
  },
  {
   "cell_type": "code",
   "execution_count": 2,
   "id": "543d1574",
   "metadata": {},
   "outputs": [],
   "source": [
    "senti_df=pd.read_csv('senti_csv')"
   ]
  },
  {
   "cell_type": "code",
   "execution_count": 3,
   "id": "27d4f87d",
   "metadata": {},
   "outputs": [
    {
     "data": {
      "text/html": [
       "<div>\n",
       "<style scoped>\n",
       "    .dataframe tbody tr th:only-of-type {\n",
       "        vertical-align: middle;\n",
       "    }\n",
       "\n",
       "    .dataframe tbody tr th {\n",
       "        vertical-align: top;\n",
       "    }\n",
       "\n",
       "    .dataframe thead th {\n",
       "        text-align: right;\n",
       "    }\n",
       "</style>\n",
       "<table border=\"1\" class=\"dataframe\">\n",
       "  <thead>\n",
       "    <tr style=\"text-align: right;\">\n",
       "      <th></th>\n",
       "      <th>stars</th>\n",
       "      <th>text</th>\n",
       "      <th>label</th>\n",
       "    </tr>\n",
       "  </thead>\n",
       "  <tbody>\n",
       "    <tr>\n",
       "      <th>0</th>\n",
       "      <td>1.0</td>\n",
       "      <td>Parents, teachers and students BEWARE before b...</td>\n",
       "      <td>0.0</td>\n",
       "    </tr>\n",
       "    <tr>\n",
       "      <th>1</th>\n",
       "      <td>1.0</td>\n",
       "      <td>Do NOT use these guys. They looked at our wash...</td>\n",
       "      <td>0.0</td>\n",
       "    </tr>\n",
       "    <tr>\n",
       "      <th>2</th>\n",
       "      <td>1.0</td>\n",
       "      <td>\"Women caring for women\" is a total joke when ...</td>\n",
       "      <td>0.0</td>\n",
       "    </tr>\n",
       "    <tr>\n",
       "      <th>3</th>\n",
       "      <td>1.0</td>\n",
       "      <td>Sloppy work sold me headers installed had a le...</td>\n",
       "      <td>0.0</td>\n",
       "    </tr>\n",
       "    <tr>\n",
       "      <th>4</th>\n",
       "      <td>1.0</td>\n",
       "      <td>This review is based on the comedy club itself...</td>\n",
       "      <td>0.0</td>\n",
       "    </tr>\n",
       "    <tr>\n",
       "      <th>...</th>\n",
       "      <td>...</td>\n",
       "      <td>...</td>\n",
       "      <td>...</td>\n",
       "    </tr>\n",
       "    <tr>\n",
       "      <th>5077327</th>\n",
       "      <td>5.0</td>\n",
       "      <td>Yaaaaay! Just passed my road test. Ask for Yur...</td>\n",
       "      <td>1.0</td>\n",
       "    </tr>\n",
       "    <tr>\n",
       "      <th>5077328</th>\n",
       "      <td>5.0</td>\n",
       "      <td>This is the best pizza around.The sauce is the...</td>\n",
       "      <td>1.0</td>\n",
       "    </tr>\n",
       "    <tr>\n",
       "      <th>5077329</th>\n",
       "      <td>5.0</td>\n",
       "      <td>First time at Black Wing and had a great time....</td>\n",
       "      <td>1.0</td>\n",
       "    </tr>\n",
       "    <tr>\n",
       "      <th>5077330</th>\n",
       "      <td>5.0</td>\n",
       "      <td>We came for lunch and sat on the beautiful pat...</td>\n",
       "      <td>1.0</td>\n",
       "    </tr>\n",
       "    <tr>\n",
       "      <th>5077331</th>\n",
       "      <td>5.0</td>\n",
       "      <td>I called WVM on the recommendation of a couple...</td>\n",
       "      <td>1.0</td>\n",
       "    </tr>\n",
       "  </tbody>\n",
       "</table>\n",
       "<p>5077332 rows × 3 columns</p>\n",
       "</div>"
      ],
      "text/plain": [
       "         stars                                               text  label\n",
       "0          1.0  Parents, teachers and students BEWARE before b...    0.0\n",
       "1          1.0  Do NOT use these guys. They looked at our wash...    0.0\n",
       "2          1.0  \"Women caring for women\" is a total joke when ...    0.0\n",
       "3          1.0  Sloppy work sold me headers installed had a le...    0.0\n",
       "4          1.0  This review is based on the comedy club itself...    0.0\n",
       "...        ...                                                ...    ...\n",
       "5077327    5.0  Yaaaaay! Just passed my road test. Ask for Yur...    1.0\n",
       "5077328    5.0  This is the best pizza around.The sauce is the...    1.0\n",
       "5077329    5.0  First time at Black Wing and had a great time....    1.0\n",
       "5077330    5.0  We came for lunch and sat on the beautiful pat...    1.0\n",
       "5077331    5.0  I called WVM on the recommendation of a couple...    1.0\n",
       "\n",
       "[5077332 rows x 3 columns]"
      ]
     },
     "execution_count": 3,
     "metadata": {},
     "output_type": "execute_result"
    }
   ],
   "source": [
    "senti_df"
   ]
  },
  {
   "cell_type": "code",
   "execution_count": 62,
   "id": "9241fb16",
   "metadata": {},
   "outputs": [
    {
     "data": {
      "text/plain": [
       "\"This review is based on the comedy club itself and not the comedians. \\n\\nIf you want to waste $70 for a few chuckles, bad food, and parking, make it an Uptown Comedy Club night. Like 90% of places in Atlanta, there is no free parking near the club. It's $15 for valet, but there are also a few places down the street that charge $10. You may be lucky enough to find a parking spot on the street for free, but every time I've found an empty street space in Atlanta, there's always been somebody waiting for me to get out of my car so they can beg me for a couple of bucks. How do I get into the parking spot business? That must be the best way to become a millionaire in Atlanta. \\nAnyway, be aware that there is a two item minimum once you're inside the club. There is no such thing as free water. You have to buy $6 designer water. There are a few food items on the menu and a few drinks. My drink tasted like it had been sitting in a fridge for a week soaking up the tastes of other foods. They probably need to put a box of baking soda in their fridge. \\nI'm not sure how you get free tickets, but I paid for my ticket....$40 for VIP to be exact. What a joke, VIP gets you nothing at all...don't expect better chairs, a free drink, or better service.\\nFinally, the location is in an industrial-like building. You can see all the air conditioning ducts. For a building like this, they can't be paying that much rent.\\nI'm sure there are better comedy clubs out there, try somewhere else.\""
      ]
     },
     "execution_count": 62,
     "metadata": {},
     "output_type": "execute_result"
    }
   ],
   "source": [
    "senti_df['text'][4]"
   ]
  },
  {
   "cell_type": "code",
   "execution_count": 27,
   "id": "170790af",
   "metadata": {},
   "outputs": [],
   "source": [
    "senti_df=senti_df.loc[senti_df['text'].notnull()]"
   ]
  },
  {
   "cell_type": "code",
   "execution_count": 28,
   "id": "253524b5",
   "metadata": {
    "scrolled": true
   },
   "outputs": [
    {
     "data": {
      "text/html": [
       "<div>\n",
       "<style scoped>\n",
       "    .dataframe tbody tr th:only-of-type {\n",
       "        vertical-align: middle;\n",
       "    }\n",
       "\n",
       "    .dataframe tbody tr th {\n",
       "        vertical-align: top;\n",
       "    }\n",
       "\n",
       "    .dataframe thead th {\n",
       "        text-align: right;\n",
       "    }\n",
       "</style>\n",
       "<table border=\"1\" class=\"dataframe\">\n",
       "  <thead>\n",
       "    <tr style=\"text-align: right;\">\n",
       "      <th></th>\n",
       "      <th>stars</th>\n",
       "      <th>text</th>\n",
       "      <th>label</th>\n",
       "    </tr>\n",
       "  </thead>\n",
       "  <tbody>\n",
       "    <tr>\n",
       "      <th>0</th>\n",
       "      <td>1.0</td>\n",
       "      <td>Parents, teachers and students BEWARE before b...</td>\n",
       "      <td>0.0</td>\n",
       "    </tr>\n",
       "    <tr>\n",
       "      <th>1</th>\n",
       "      <td>1.0</td>\n",
       "      <td>Do NOT use these guys. They looked at our wash...</td>\n",
       "      <td>0.0</td>\n",
       "    </tr>\n",
       "    <tr>\n",
       "      <th>2</th>\n",
       "      <td>1.0</td>\n",
       "      <td>\"Women caring for women\" is a total joke when ...</td>\n",
       "      <td>0.0</td>\n",
       "    </tr>\n",
       "    <tr>\n",
       "      <th>3</th>\n",
       "      <td>1.0</td>\n",
       "      <td>Sloppy work sold me headers installed had a le...</td>\n",
       "      <td>0.0</td>\n",
       "    </tr>\n",
       "    <tr>\n",
       "      <th>4</th>\n",
       "      <td>1.0</td>\n",
       "      <td>This review is based on the comedy club itself...</td>\n",
       "      <td>0.0</td>\n",
       "    </tr>\n",
       "    <tr>\n",
       "      <th>...</th>\n",
       "      <td>...</td>\n",
       "      <td>...</td>\n",
       "      <td>...</td>\n",
       "    </tr>\n",
       "    <tr>\n",
       "      <th>5077327</th>\n",
       "      <td>5.0</td>\n",
       "      <td>Yaaaaay! Just passed my road test. Ask for Yur...</td>\n",
       "      <td>1.0</td>\n",
       "    </tr>\n",
       "    <tr>\n",
       "      <th>5077328</th>\n",
       "      <td>5.0</td>\n",
       "      <td>This is the best pizza around.The sauce is the...</td>\n",
       "      <td>1.0</td>\n",
       "    </tr>\n",
       "    <tr>\n",
       "      <th>5077329</th>\n",
       "      <td>5.0</td>\n",
       "      <td>First time at Black Wing and had a great time....</td>\n",
       "      <td>1.0</td>\n",
       "    </tr>\n",
       "    <tr>\n",
       "      <th>5077330</th>\n",
       "      <td>5.0</td>\n",
       "      <td>We came for lunch and sat on the beautiful pat...</td>\n",
       "      <td>1.0</td>\n",
       "    </tr>\n",
       "    <tr>\n",
       "      <th>5077331</th>\n",
       "      <td>5.0</td>\n",
       "      <td>I called WVM on the recommendation of a couple...</td>\n",
       "      <td>1.0</td>\n",
       "    </tr>\n",
       "  </tbody>\n",
       "</table>\n",
       "<p>5077331 rows × 3 columns</p>\n",
       "</div>"
      ],
      "text/plain": [
       "         stars                                               text  label\n",
       "0          1.0  Parents, teachers and students BEWARE before b...    0.0\n",
       "1          1.0  Do NOT use these guys. They looked at our wash...    0.0\n",
       "2          1.0  \"Women caring for women\" is a total joke when ...    0.0\n",
       "3          1.0  Sloppy work sold me headers installed had a le...    0.0\n",
       "4          1.0  This review is based on the comedy club itself...    0.0\n",
       "...        ...                                                ...    ...\n",
       "5077327    5.0  Yaaaaay! Just passed my road test. Ask for Yur...    1.0\n",
       "5077328    5.0  This is the best pizza around.The sauce is the...    1.0\n",
       "5077329    5.0  First time at Black Wing and had a great time....    1.0\n",
       "5077330    5.0  We came for lunch and sat on the beautiful pat...    1.0\n",
       "5077331    5.0  I called WVM on the recommendation of a couple...    1.0\n",
       "\n",
       "[5077331 rows x 3 columns]"
      ]
     },
     "execution_count": 28,
     "metadata": {},
     "output_type": "execute_result"
    }
   ],
   "source": [
    "senti_df"
   ]
  },
  {
   "cell_type": "code",
   "execution_count": 29,
   "id": "61e3c335",
   "metadata": {},
   "outputs": [],
   "source": [
    "from sklearn.model_selection import train_test_split\n",
    "train, test = train_test_split(senti_df, test_size=0.2)\n",
    "test,dev = train_test_split(test, test_size=0.5)\n"
   ]
  },
  {
   "cell_type": "code",
   "execution_count": 30,
   "id": "c31705db",
   "metadata": {
    "scrolled": false
   },
   "outputs": [],
   "source": [
    "train=train.sort_values(by='stars')\n",
    "dev=dev.sort_values(by='stars')\n",
    "test=test.sort_values(by='stars')\n",
    "\n"
   ]
  },
  {
   "cell_type": "code",
   "execution_count": 31,
   "id": "de59ca56",
   "metadata": {
    "scrolled": true
   },
   "outputs": [
    {
     "data": {
      "text/html": [
       "<div>\n",
       "<style scoped>\n",
       "    .dataframe tbody tr th:only-of-type {\n",
       "        vertical-align: middle;\n",
       "    }\n",
       "\n",
       "    .dataframe tbody tr th {\n",
       "        vertical-align: top;\n",
       "    }\n",
       "\n",
       "    .dataframe thead th {\n",
       "        text-align: right;\n",
       "    }\n",
       "</style>\n",
       "<table border=\"1\" class=\"dataframe\">\n",
       "  <thead>\n",
       "    <tr style=\"text-align: right;\">\n",
       "      <th></th>\n",
       "      <th>stars</th>\n",
       "      <th>text</th>\n",
       "      <th>label</th>\n",
       "    </tr>\n",
       "  </thead>\n",
       "  <tbody>\n",
       "    <tr>\n",
       "      <th>962401</th>\n",
       "      <td>1.0</td>\n",
       "      <td>Never called me back.  I called 2x with messag...</td>\n",
       "      <td>0.0</td>\n",
       "    </tr>\n",
       "    <tr>\n",
       "      <th>1244435</th>\n",
       "      <td>1.0</td>\n",
       "      <td>Agero is THE WORST company I've ever dealt wit...</td>\n",
       "      <td>0.0</td>\n",
       "    </tr>\n",
       "    <tr>\n",
       "      <th>787146</th>\n",
       "      <td>1.0</td>\n",
       "      <td>Wow.  I wish I had read Yelp before I called. ...</td>\n",
       "      <td>0.0</td>\n",
       "    </tr>\n",
       "    <tr>\n",
       "      <th>1002647</th>\n",
       "      <td>1.0</td>\n",
       "      <td>They will take your money, say you didn't pay ...</td>\n",
       "      <td>0.0</td>\n",
       "    </tr>\n",
       "    <tr>\n",
       "      <th>843472</th>\n",
       "      <td>1.0</td>\n",
       "      <td>Right now, I'm currently waiting in line for t...</td>\n",
       "      <td>0.0</td>\n",
       "    </tr>\n",
       "    <tr>\n",
       "      <th>...</th>\n",
       "      <td>...</td>\n",
       "      <td>...</td>\n",
       "      <td>...</td>\n",
       "    </tr>\n",
       "    <tr>\n",
       "      <th>2619697</th>\n",
       "      <td>5.0</td>\n",
       "      <td>Print Plus was kind, helpful and spent a lot o...</td>\n",
       "      <td>1.0</td>\n",
       "    </tr>\n",
       "    <tr>\n",
       "      <th>3278649</th>\n",
       "      <td>5.0</td>\n",
       "      <td>Nice outdoor court yard dining area! Calm musi...</td>\n",
       "      <td>1.0</td>\n",
       "    </tr>\n",
       "    <tr>\n",
       "      <th>1302888</th>\n",
       "      <td>5.0</td>\n",
       "      <td>The best Peruvian food I've had in a very long...</td>\n",
       "      <td>1.0</td>\n",
       "    </tr>\n",
       "    <tr>\n",
       "      <th>4205005</th>\n",
       "      <td>5.0</td>\n",
       "      <td>Witch City Ink is a great addition to Salem. N...</td>\n",
       "      <td>1.0</td>\n",
       "    </tr>\n",
       "    <tr>\n",
       "      <th>3359497</th>\n",
       "      <td>5.0</td>\n",
       "      <td>The service is amazing! The lobster fried rice...</td>\n",
       "      <td>1.0</td>\n",
       "    </tr>\n",
       "  </tbody>\n",
       "</table>\n",
       "<p>4061864 rows × 3 columns</p>\n",
       "</div>"
      ],
      "text/plain": [
       "         stars                                               text  label\n",
       "962401     1.0  Never called me back.  I called 2x with messag...    0.0\n",
       "1244435    1.0  Agero is THE WORST company I've ever dealt wit...    0.0\n",
       "787146     1.0  Wow.  I wish I had read Yelp before I called. ...    0.0\n",
       "1002647    1.0  They will take your money, say you didn't pay ...    0.0\n",
       "843472     1.0  Right now, I'm currently waiting in line for t...    0.0\n",
       "...        ...                                                ...    ...\n",
       "2619697    5.0  Print Plus was kind, helpful and spent a lot o...    1.0\n",
       "3278649    5.0  Nice outdoor court yard dining area! Calm musi...    1.0\n",
       "1302888    5.0  The best Peruvian food I've had in a very long...    1.0\n",
       "4205005    5.0  Witch City Ink is a great addition to Salem. N...    1.0\n",
       "3359497    5.0  The service is amazing! The lobster fried rice...    1.0\n",
       "\n",
       "[4061864 rows x 3 columns]"
      ]
     },
     "execution_count": 31,
     "metadata": {},
     "output_type": "execute_result"
    }
   ],
   "source": [
    "train"
   ]
  },
  {
   "cell_type": "code",
   "execution_count": 32,
   "id": "97a29ebb",
   "metadata": {
    "scrolled": true
   },
   "outputs": [
    {
     "data": {
      "text/html": [
       "<div>\n",
       "<style scoped>\n",
       "    .dataframe tbody tr th:only-of-type {\n",
       "        vertical-align: middle;\n",
       "    }\n",
       "\n",
       "    .dataframe tbody tr th {\n",
       "        vertical-align: top;\n",
       "    }\n",
       "\n",
       "    .dataframe thead th {\n",
       "        text-align: right;\n",
       "    }\n",
       "</style>\n",
       "<table border=\"1\" class=\"dataframe\">\n",
       "  <thead>\n",
       "    <tr style=\"text-align: right;\">\n",
       "      <th></th>\n",
       "      <th>stars</th>\n",
       "      <th>text</th>\n",
       "      <th>label</th>\n",
       "    </tr>\n",
       "  </thead>\n",
       "  <tbody>\n",
       "    <tr>\n",
       "      <th>482639</th>\n",
       "      <td>1.0</td>\n",
       "      <td>The food saved them from getting ZERO stars. S...</td>\n",
       "      <td>0.0</td>\n",
       "    </tr>\n",
       "    <tr>\n",
       "      <th>586447</th>\n",
       "      <td>1.0</td>\n",
       "      <td>Hey hey it's my birthday! @ least it was when ...</td>\n",
       "      <td>0.0</td>\n",
       "    </tr>\n",
       "    <tr>\n",
       "      <th>433648</th>\n",
       "      <td>1.0</td>\n",
       "      <td>We ordered mapo tofu here to try this new plac...</td>\n",
       "      <td>0.0</td>\n",
       "    </tr>\n",
       "    <tr>\n",
       "      <th>587360</th>\n",
       "      <td>1.0</td>\n",
       "      <td>Bartender was a total dick. He made it an awfu...</td>\n",
       "      <td>0.0</td>\n",
       "    </tr>\n",
       "    <tr>\n",
       "      <th>849795</th>\n",
       "      <td>1.0</td>\n",
       "      <td>In our trip to through Colorado we visited ove...</td>\n",
       "      <td>0.0</td>\n",
       "    </tr>\n",
       "    <tr>\n",
       "      <th>...</th>\n",
       "      <td>...</td>\n",
       "      <td>...</td>\n",
       "      <td>...</td>\n",
       "    </tr>\n",
       "    <tr>\n",
       "      <th>1276316</th>\n",
       "      <td>5.0</td>\n",
       "      <td>Birthday dinner for my wife!!\\nHuge success. S...</td>\n",
       "      <td>1.0</td>\n",
       "    </tr>\n",
       "    <tr>\n",
       "      <th>4839211</th>\n",
       "      <td>5.0</td>\n",
       "      <td>Great no frills subs. Excellent service and st...</td>\n",
       "      <td>1.0</td>\n",
       "    </tr>\n",
       "    <tr>\n",
       "      <th>4982821</th>\n",
       "      <td>5.0</td>\n",
       "      <td>I've been taking my little Shih Tzu to Barking...</td>\n",
       "      <td>1.0</td>\n",
       "    </tr>\n",
       "    <tr>\n",
       "      <th>4149778</th>\n",
       "      <td>5.0</td>\n",
       "      <td>Great spot. First time here. About an hour wai...</td>\n",
       "      <td>1.0</td>\n",
       "    </tr>\n",
       "    <tr>\n",
       "      <th>1985606</th>\n",
       "      <td>5.0</td>\n",
       "      <td>My kids did not start lessons with DSR but hav...</td>\n",
       "      <td>1.0</td>\n",
       "    </tr>\n",
       "  </tbody>\n",
       "</table>\n",
       "<p>507734 rows × 3 columns</p>\n",
       "</div>"
      ],
      "text/plain": [
       "         stars                                               text  label\n",
       "482639     1.0  The food saved them from getting ZERO stars. S...    0.0\n",
       "586447     1.0  Hey hey it's my birthday! @ least it was when ...    0.0\n",
       "433648     1.0  We ordered mapo tofu here to try this new plac...    0.0\n",
       "587360     1.0  Bartender was a total dick. He made it an awfu...    0.0\n",
       "849795     1.0  In our trip to through Colorado we visited ove...    0.0\n",
       "...        ...                                                ...    ...\n",
       "1276316    5.0  Birthday dinner for my wife!!\\nHuge success. S...    1.0\n",
       "4839211    5.0  Great no frills subs. Excellent service and st...    1.0\n",
       "4982821    5.0  I've been taking my little Shih Tzu to Barking...    1.0\n",
       "4149778    5.0  Great spot. First time here. About an hour wai...    1.0\n",
       "1985606    5.0  My kids did not start lessons with DSR but hav...    1.0\n",
       "\n",
       "[507734 rows x 3 columns]"
      ]
     },
     "execution_count": 32,
     "metadata": {},
     "output_type": "execute_result"
    }
   ],
   "source": [
    "dev"
   ]
  },
  {
   "cell_type": "code",
   "execution_count": 33,
   "id": "20cfdfe1",
   "metadata": {},
   "outputs": [],
   "source": [
    "import re\n",
    "import os"
   ]
  },
  {
   "cell_type": "code",
   "execution_count": 9,
   "id": "a47ba698",
   "metadata": {},
   "outputs": [
    {
     "ename": "KeyError",
     "evalue": "4",
     "output_type": "error",
     "traceback": [
      "\u001b[0;31m---------------------------------------------------------------------------\u001b[0m",
      "\u001b[0;31mKeyError\u001b[0m                                  Traceback (most recent call last)",
      "\u001b[0;32m~/anaconda3/envs/daebt/lib/python3.8/site-packages/pandas/core/indexes/base.py\u001b[0m in \u001b[0;36mget_loc\u001b[0;34m(self, key, method, tolerance)\u001b[0m\n\u001b[1;32m   3620\u001b[0m             \u001b[0;32mtry\u001b[0m\u001b[0;34m:\u001b[0m\u001b[0;34m\u001b[0m\u001b[0;34m\u001b[0m\u001b[0m\n\u001b[0;32m-> 3621\u001b[0;31m                 \u001b[0;32mreturn\u001b[0m \u001b[0mself\u001b[0m\u001b[0;34m.\u001b[0m\u001b[0m_engine\u001b[0m\u001b[0;34m.\u001b[0m\u001b[0mget_loc\u001b[0m\u001b[0;34m(\u001b[0m\u001b[0mcasted_key\u001b[0m\u001b[0;34m)\u001b[0m\u001b[0;34m\u001b[0m\u001b[0;34m\u001b[0m\u001b[0m\n\u001b[0m\u001b[1;32m   3622\u001b[0m             \u001b[0;32mexcept\u001b[0m \u001b[0mKeyError\u001b[0m \u001b[0;32mas\u001b[0m \u001b[0merr\u001b[0m\u001b[0;34m:\u001b[0m\u001b[0;34m\u001b[0m\u001b[0;34m\u001b[0m\u001b[0m\n",
      "\u001b[0;32m~/anaconda3/envs/daebt/lib/python3.8/site-packages/pandas/_libs/index.pyx\u001b[0m in \u001b[0;36mpandas._libs.index.IndexEngine.get_loc\u001b[0;34m()\u001b[0m\n",
      "\u001b[0;32m~/anaconda3/envs/daebt/lib/python3.8/site-packages/pandas/_libs/index.pyx\u001b[0m in \u001b[0;36mpandas._libs.index.IndexEngine.get_loc\u001b[0;34m()\u001b[0m\n",
      "\u001b[0;32mpandas/_libs/hashtable_class_helper.pxi\u001b[0m in \u001b[0;36mpandas._libs.hashtable.Int64HashTable.get_item\u001b[0;34m()\u001b[0m\n",
      "\u001b[0;32mpandas/_libs/hashtable_class_helper.pxi\u001b[0m in \u001b[0;36mpandas._libs.hashtable.Int64HashTable.get_item\u001b[0;34m()\u001b[0m\n",
      "\u001b[0;31mKeyError\u001b[0m: 4",
      "\nThe above exception was the direct cause of the following exception:\n",
      "\u001b[0;31mKeyError\u001b[0m                                  Traceback (most recent call last)",
      "\u001b[0;32m/tmp/ipykernel_5704/2269334762.py\u001b[0m in \u001b[0;36m<module>\u001b[0;34m\u001b[0m\n\u001b[0;32m----> 1\u001b[0;31m \u001b[0mhoge\u001b[0m \u001b[0;34m=\u001b[0m \u001b[0mre\u001b[0m\u001b[0;34m.\u001b[0m\u001b[0msub\u001b[0m\u001b[0;34m(\u001b[0m\u001b[0;34m'\\n+'\u001b[0m\u001b[0;34m,\u001b[0m \u001b[0;34m'\\n'\u001b[0m\u001b[0;34m,\u001b[0m \u001b[0mtest\u001b[0m\u001b[0;34m[\u001b[0m\u001b[0;34m'text'\u001b[0m\u001b[0;34m]\u001b[0m\u001b[0;34m[\u001b[0m\u001b[0;36m4\u001b[0m\u001b[0;34m]\u001b[0m\u001b[0;34m)\u001b[0m\u001b[0;34m\u001b[0m\u001b[0;34m\u001b[0m\u001b[0m\n\u001b[0m",
      "\u001b[0;32m~/anaconda3/envs/daebt/lib/python3.8/site-packages/pandas/core/series.py\u001b[0m in \u001b[0;36m__getitem__\u001b[0;34m(self, key)\u001b[0m\n\u001b[1;32m    956\u001b[0m \u001b[0;34m\u001b[0m\u001b[0m\n\u001b[1;32m    957\u001b[0m         \u001b[0;32melif\u001b[0m \u001b[0mkey_is_scalar\u001b[0m\u001b[0;34m:\u001b[0m\u001b[0;34m\u001b[0m\u001b[0;34m\u001b[0m\u001b[0m\n\u001b[0;32m--> 958\u001b[0;31m             \u001b[0;32mreturn\u001b[0m \u001b[0mself\u001b[0m\u001b[0;34m.\u001b[0m\u001b[0m_get_value\u001b[0m\u001b[0;34m(\u001b[0m\u001b[0mkey\u001b[0m\u001b[0;34m)\u001b[0m\u001b[0;34m\u001b[0m\u001b[0;34m\u001b[0m\u001b[0m\n\u001b[0m\u001b[1;32m    959\u001b[0m \u001b[0;34m\u001b[0m\u001b[0m\n\u001b[1;32m    960\u001b[0m         \u001b[0;32mif\u001b[0m \u001b[0mis_hashable\u001b[0m\u001b[0;34m(\u001b[0m\u001b[0mkey\u001b[0m\u001b[0;34m)\u001b[0m\u001b[0;34m:\u001b[0m\u001b[0;34m\u001b[0m\u001b[0;34m\u001b[0m\u001b[0m\n",
      "\u001b[0;32m~/anaconda3/envs/daebt/lib/python3.8/site-packages/pandas/core/series.py\u001b[0m in \u001b[0;36m_get_value\u001b[0;34m(self, label, takeable)\u001b[0m\n\u001b[1;32m   1067\u001b[0m \u001b[0;34m\u001b[0m\u001b[0m\n\u001b[1;32m   1068\u001b[0m         \u001b[0;31m# Similar to Index.get_value, but we do not fall back to positional\u001b[0m\u001b[0;34m\u001b[0m\u001b[0;34m\u001b[0m\u001b[0;34m\u001b[0m\u001b[0m\n\u001b[0;32m-> 1069\u001b[0;31m         \u001b[0mloc\u001b[0m \u001b[0;34m=\u001b[0m \u001b[0mself\u001b[0m\u001b[0;34m.\u001b[0m\u001b[0mindex\u001b[0m\u001b[0;34m.\u001b[0m\u001b[0mget_loc\u001b[0m\u001b[0;34m(\u001b[0m\u001b[0mlabel\u001b[0m\u001b[0;34m)\u001b[0m\u001b[0;34m\u001b[0m\u001b[0;34m\u001b[0m\u001b[0m\n\u001b[0m\u001b[1;32m   1070\u001b[0m         \u001b[0;32mreturn\u001b[0m \u001b[0mself\u001b[0m\u001b[0;34m.\u001b[0m\u001b[0mindex\u001b[0m\u001b[0;34m.\u001b[0m\u001b[0m_get_values_for_loc\u001b[0m\u001b[0;34m(\u001b[0m\u001b[0mself\u001b[0m\u001b[0;34m,\u001b[0m \u001b[0mloc\u001b[0m\u001b[0;34m,\u001b[0m \u001b[0mlabel\u001b[0m\u001b[0;34m)\u001b[0m\u001b[0;34m\u001b[0m\u001b[0;34m\u001b[0m\u001b[0m\n\u001b[1;32m   1071\u001b[0m \u001b[0;34m\u001b[0m\u001b[0m\n",
      "\u001b[0;32m~/anaconda3/envs/daebt/lib/python3.8/site-packages/pandas/core/indexes/base.py\u001b[0m in \u001b[0;36mget_loc\u001b[0;34m(self, key, method, tolerance)\u001b[0m\n\u001b[1;32m   3621\u001b[0m                 \u001b[0;32mreturn\u001b[0m \u001b[0mself\u001b[0m\u001b[0;34m.\u001b[0m\u001b[0m_engine\u001b[0m\u001b[0;34m.\u001b[0m\u001b[0mget_loc\u001b[0m\u001b[0;34m(\u001b[0m\u001b[0mcasted_key\u001b[0m\u001b[0;34m)\u001b[0m\u001b[0;34m\u001b[0m\u001b[0;34m\u001b[0m\u001b[0m\n\u001b[1;32m   3622\u001b[0m             \u001b[0;32mexcept\u001b[0m \u001b[0mKeyError\u001b[0m \u001b[0;32mas\u001b[0m \u001b[0merr\u001b[0m\u001b[0;34m:\u001b[0m\u001b[0;34m\u001b[0m\u001b[0;34m\u001b[0m\u001b[0m\n\u001b[0;32m-> 3623\u001b[0;31m                 \u001b[0;32mraise\u001b[0m \u001b[0mKeyError\u001b[0m\u001b[0;34m(\u001b[0m\u001b[0mkey\u001b[0m\u001b[0;34m)\u001b[0m \u001b[0;32mfrom\u001b[0m \u001b[0merr\u001b[0m\u001b[0;34m\u001b[0m\u001b[0;34m\u001b[0m\u001b[0m\n\u001b[0m\u001b[1;32m   3624\u001b[0m             \u001b[0;32mexcept\u001b[0m \u001b[0mTypeError\u001b[0m\u001b[0;34m:\u001b[0m\u001b[0;34m\u001b[0m\u001b[0;34m\u001b[0m\u001b[0m\n\u001b[1;32m   3625\u001b[0m                 \u001b[0;31m# If we have a listlike key, _check_indexing_error will raise\u001b[0m\u001b[0;34m\u001b[0m\u001b[0;34m\u001b[0m\u001b[0;34m\u001b[0m\u001b[0m\n",
      "\u001b[0;31mKeyError\u001b[0m: 4"
     ]
    }
   ],
   "source": [
    "hoge = re.sub('\\n+', '\\n', test['text'][4])"
   ]
  },
  {
   "cell_type": "code",
   "execution_count": 41,
   "id": "6e08627a",
   "metadata": {},
   "outputs": [
    {
     "data": {
      "text/plain": [
       "\"This review is based on the comedy club itself and not the comedians. \\nIf you want to waste $70 for a few chuckles, bad food, and parking, make it an Uptown Comedy Club night. Like 90% of places in Atlanta, there is no free parking near the club. It's $15 for valet, but there are also a few places down the street that charge $10. You may be lucky enough to find a parking spot on the street for free, but every time I've found an empty street space in Atlanta, there's always been somebody waiting for me to get out of my car so they can beg me for a couple of bucks. How do I get into the parking spot business? That must be the best way to become a millionaire in Atlanta. \\nAnyway, be aware that there is a two item minimum once you're inside the club. There is no such thing as free water. You have to buy $6 designer water. There are a few food items on the menu and a few drinks. My drink tasted like it had been sitting in a fridge for a week soaking up the tastes of other foods. They probably need to put a box of baking soda in their fridge. \\nI'm not sure how you get free tickets, but I paid for my ticket....$40 for VIP to be exact. What a joke, VIP gets you nothing at all...don't expect better chairs, a free drink, or better service.\\nFinally, the location is in an industrial-like building. You can see all the air conditioning ducts. For a building like this, they can't be paying that much rent.\\nI'm sure there are better comedy clubs out there, try somewhere else.\""
      ]
     },
     "execution_count": 41,
     "metadata": {},
     "output_type": "execute_result"
    }
   ],
   "source": [
    "hoge"
   ]
  },
  {
   "cell_type": "code",
   "execution_count": 42,
   "id": "a018c850",
   "metadata": {},
   "outputs": [],
   "source": [
    "hoge = test['text'][4].split('\\n')"
   ]
  },
  {
   "cell_type": "code",
   "execution_count": 43,
   "id": "d46e731c",
   "metadata": {
    "scrolled": false
   },
   "outputs": [
    {
     "name": "stdout",
     "output_type": "stream",
     "text": [
      "This review is based on the comedy club itself and not the comedians.  I'm sure there are better comedy clubs out there, try somewhere else.\n"
     ]
    }
   ],
   "source": [
    "print(hoge[0], hoge[-1])"
   ]
  },
  {
   "cell_type": "code",
   "execution_count": 46,
   "id": "6a8e874b",
   "metadata": {},
   "outputs": [],
   "source": [
    "hogetext=hoge[0].strip()+ ' ' + hoge[-1].strip()"
   ]
  },
  {
   "cell_type": "code",
   "execution_count": 47,
   "id": "f6d79e56",
   "metadata": {
    "scrolled": true
   },
   "outputs": [
    {
     "data": {
      "text/plain": [
       "\"This review is based on the comedy club itself and not the comedians. I'm sure there are better comedy clubs out there, try somewhere else.\""
      ]
     },
     "execution_count": 47,
     "metadata": {},
     "output_type": "execute_result"
    }
   ],
   "source": [
    "hogetext"
   ]
  },
  {
   "cell_type": "code",
   "execution_count": 149,
   "id": "e579b5c2",
   "metadata": {},
   "outputs": [
    {
     "data": {
      "text/plain": [
       "'Good Morning !Hoow are you ? ?'"
      ]
     },
     "execution_count": 149,
     "metadata": {},
     "output_type": "execute_result"
    }
   ],
   "source": [
    "import string\n",
    "regular_punct = list(string.punctuation)\n",
    "\n",
    "def spacing_punctuation(text, regular_punct):\n",
    "    for punc in regular_punct:\n",
    "        if punc in text:\n",
    "            text = text.replace(punc, \" \"+f'{punc}')\n",
    "    return text.strip()\n",
    "\n",
    "spacing_punctuation(\"Good Morning!Hoow are you?? \",regular_punct)"
   ]
  },
  {
   "cell_type": "code",
   "execution_count": null,
   "id": "9654c871",
   "metadata": {},
   "outputs": [],
   "source": []
  },
  {
   "cell_type": "code",
   "execution_count": 290,
   "id": "07563302",
   "metadata": {},
   "outputs": [],
   "source": [
    "import string\n",
    "regular_punct = list(string.punctuation)\n",
    "\n",
    "def spacing_punctuation(text, regular_punct):\n",
    "    #standard punction\n",
    "    text=re.sub('[!]+','!',text)\n",
    "    text=re.sub('[.]+','.',text)\n",
    "    for punc in regular_punct:\n",
    "        if punc in text:\n",
    "            text = text.replace(punc, \" \"+f'{punc}')\n",
    "    return text.strip()\n",
    "\n",
    "\n",
    "\n",
    "def clean_txt(txt):\n",
    "    #remove non-English\n",
    "    \n",
    "    \n",
    "    #astro lookup\n",
    "    contractions = {\n",
    "    \"ain't\": \"am not / are not\",\n",
    "    \"aren't\": \"are not \",\n",
    "    \"can't\": \"cannot\",\n",
    "    \"can't've\": \"cannot have\",\n",
    "    \"'cause\": \"because\",\n",
    "    \"could've\": \"could have\",\n",
    "    \"couldn't\": \"could not\",\n",
    "    \"couldn't've\": \"could not have\",\n",
    "    \"didn't\": \"did not\",\n",
    "    \"doesn't\": \"does not\",\n",
    "    \"don't\": \"do not\",\n",
    "    \"hadn't\": \"had not\",\n",
    "    \"hadn't've\": \"had not have\",\n",
    "    \"hasn't\": \"has not\",\n",
    "    \"haven't\": \"have not\",\n",
    "    \"he'd\": \"he would\",\n",
    "    \"he'd've\": \"he would have\",\n",
    "    \"he'll\": \"he will\",\n",
    "    \"he'll've\": \"he will have\",\n",
    "    \"he's\": \"he is\",\n",
    "    \"how'd\": \"how did\",\n",
    "    \"how'd'y\": \"how do you\",\n",
    "    \"how'll\": \"how will\",\n",
    "    \"how's\": \"how is\",\n",
    "    \"i'd\": \"I had\",\n",
    "    \"i'd've\": \"I would have\",\n",
    "    \"i'll\": \"I will\",\n",
    "    \"i'll've\": \"I will have\",\n",
    "    \"i'm\": \"I am\",\n",
    "    \"i've\": \"I have\",\n",
    "    \"isn't\": \"is not\",\n",
    "    \"it'd\": \"it would\",\n",
    "    \"it'd've\": \"it would have\",\n",
    "    \"it'll\": \"it will\",\n",
    "    \"it'll've\": \"it will have\",\n",
    "    \"it's\": \"it is\",\n",
    "    \"let's\": \"let us\",\n",
    "    \"ma'am\": \"madam\",\n",
    "    \"mayn't\": \"may not\",\n",
    "    \"might've\": \"might have\",\n",
    "    \"mightn't\": \"might not\",\n",
    "    \"mightn't've\": \"might not have\",\n",
    "    \"must've\": \"must have\",\n",
    "    \"mustn't\": \"must not\",\n",
    "    \"mustn't've\": \"must not have\",\n",
    "    \"needn't\": \"need not\",\n",
    "    \"needn't've\": \"need not have\",\n",
    "    \"o'clock\": \"of the clock\",\n",
    "    \"oughtn't\": \"ought not\",\n",
    "    \"oughtn't've\": \"ought not have\",\n",
    "    \"shan't\": \"shall not\",\n",
    "    \"sha'n't\": \"shall not\",\n",
    "    \"shan't've\": \"shall not have\",\n",
    "    \"she'd\": \"she would\",\n",
    "    \"she'd've\": \"she would have\",\n",
    "    \"she'll\": \"she will\",\n",
    "    \"she'll've\": \"she will have\",\n",
    "    \"she's\": \"she is\",\n",
    "    \"should've\": \"should have\",\n",
    "    \"shouldn't\": \"should not\",\n",
    "    \"shouldn't've\": \"should not have\",\n",
    "    \"so've\": \"so have\",\n",
    "    \"so's\": \"so as\",\n",
    "    \"that'd\": \"that had\",\n",
    "    \"that'd've\": \"that would have\",\n",
    "    \"that's\": \"that is\",\n",
    "    \"there'd\": \"there would\",\n",
    "    \"there'd've\": \"there would have\",\n",
    "    \"there's\": \"there is\",\n",
    "    \"they'd\": \"they would\",\n",
    "    \"they'd've\": \"they would have\",\n",
    "    \"they'll\": \"they will\",\n",
    "    \"they'll've\": \"they will have\",\n",
    "    \"they're\": \"they are\",\n",
    "    \"they've\": \"they have\",\n",
    "    \"to've\": \"to have\",\n",
    "    \"wasn't\": \"was not\",\n",
    "    \"we'd\": \"we would\",\n",
    "    \"we'd've\": \"we would have\",\n",
    "    \"we'll\": \"we will\",\n",
    "    \"we'll've\": \"we will have\",\n",
    "    \"we're\": \"we are\",\n",
    "    \"we've\": \"we have\",\n",
    "    \"weren't\": \"were not\",\n",
    "    \"what'll\": \"what will\",\n",
    "    \"what'll've\": \"what will have\",\n",
    "    \"what're\": \"what are\",\n",
    "    \"what's\": \"what is\",\n",
    "    \"what've\": \"what have\",\n",
    "    \"when's\": \"when is\",\n",
    "    \"when've\": \"when have\",\n",
    "    \"where'd\": \"where did\",\n",
    "    \"where's\": \"where is\",\n",
    "    \"where've\": \"where have\",\n",
    "    \"who'll\": \"who will\",\n",
    "    \"who'll've\": \"who will have\",\n",
    "    \"who's\": \"who is\",\n",
    "    \"who've\": \"who have\",\n",
    "    \"why's\": \"why is\",\n",
    "    \"why've\": \"why have\",\n",
    "    \"will've\": \"will have\",\n",
    "    \"won't\": \"will not\",\n",
    "    \"won't've\": \"will not have\",\n",
    "    \"would've\": \"would have\",\n",
    "    \"wouldn't\": \"would not\",\n",
    "    \"wouldn't've\": \"would not have\",\n",
    "    \"y'all\": \"you all\",\n",
    "    \"y'all'd\": \"you all would\",\n",
    "    \"y'all'd've\": \"you all would have\",\n",
    "    \"y'all're\": \"you all are\",\n",
    "    \"y'all've\": \"you all have\",\n",
    "    \"you'd\": \"you had / you would\",\n",
    "    \"you'd've\": \"you would have\",\n",
    "    \"you'll\": \"you shall / you will\",\n",
    "    \"you'll've\": \"you will have\",\n",
    "    \"you're\": \"you are\",\n",
    "    \"you've\": \"you have\"\n",
    "    }\n",
    "\n",
    "    for word in txt.split():\n",
    "        if word.lower() in contractions:\n",
    "            txt = txt.replace(word, contractions[word.lower()])\n",
    "    #remove space\n",
    "    txt_list = txt.split()\n",
    "    txt =\" \".join(txt_list)\n",
    "#     #join_words\n",
    "#     txt = \" \".join(re.findall('[A-Z][^A-Z]*', txt))\n",
    "    #punction\n",
    "    clean_txt=spacing_punctuation(txt, regular_punct)\n",
    "    #num\n",
    "    clean_txt=re.sub('[0-9]+/[0-9]+','_num_',clean_txt)\n",
    "    clean_txt=re.sub('[0-9]+,','_num_',clean_txt)\n",
    "    return clean_txt"
   ]
  },
  {
   "cell_type": "code",
   "execution_count": 303,
   "id": "4f880f8c",
   "metadata": {},
   "outputs": [
    {
     "ename": "SyntaxError",
     "evalue": "invalid syntax (485172994.py, line 9)",
     "output_type": "error",
     "traceback": [
      "\u001b[0;36m  File \u001b[0;32m\"/tmp/ipykernel_5704/485172994.py\"\u001b[0;36m, line \u001b[0;32m9\u001b[0m\n\u001b[0;31m    def filtertext(s):\u001b[0m\n\u001b[0m    ^\u001b[0m\n\u001b[0;31mSyntaxError\u001b[0m\u001b[0;31m:\u001b[0m invalid syntax\n"
     ]
    }
   ],
   "source": [
    "def isEnglish(s):\n",
    "    try:\n",
    "        s.encode(encoding='utf-8').decode('ascii')\n",
    "    except UnicodeDecodeError:\n",
    "        return False\n",
    "    else:\n",
    "        return True\n",
    "\n",
    "def filtertext(s):\n",
    "    filter_set=list[re.compile('http'),re.compile('[*]+')\n",
    "    count=0\n",
    "    for pattern in filter_set:\n",
    "        if re.match(pattern,s):\n",
    "            count+=1\n",
    "    if count>0:\n",
    "        s=''\n",
    "    return s\n",
    "\n",
    "def extract_text(text):\n",
    "    text_remove=re.sub('\\n+', '\\n', text)\n",
    "\n",
    "    text_split=text_remove.split('\\n')\n",
    "    text_fin=text_split[0].strip().lower()+' '+text_split[-1].strip().lower()\n",
    "#         print(text_fin)\n",
    "#remove non-english\n",
    "    if isEnglish(text_fin):\n",
    "        text_fin=clean_txt(text_fin)\n",
    "        \n",
    "    else: \n",
    "#         print(text_fin\"\\n\")\n",
    "        text_fin=''\n",
    "#fileter http sen\n",
    "    text_fin=filtertext(text_fin)\n",
    "    return text_fin\n",
    "    "
   ]
  },
  {
   "cell_type": "code",
   "execution_count": 298,
   "id": "fe7c4ea6",
   "metadata": {},
   "outputs": [],
   "source": [
    "def write_file(df,tf_name_1,tf_name_2,max_length=50,label_name='label'):\n",
    "    save_dir='./'\n",
    "    ftrain_t=open(os.path.join(save_dir,tf_name_1),'w')\n",
    "    ftrain_a=open(os.path.join(save_dir,tf_name_2),'w')\n",
    "    sen=[]\n",
    "    length_counts=[]\n",
    "    labels=[]\n",
    "    dropped=0\n",
    "    counts=0\n",
    "    for idx,data in df.iterrows():\n",
    "        line=data['text']\n",
    "        line=extract_text(line)\n",
    "#         print(line)\n",
    "        split_line=line.split()\n",
    "        line=line+'\\n'\n",
    "        lc=len(split_line)\n",
    "        lb=data[label_name]\n",
    "        length_counts.append(lc)\n",
    "        sen.append(line)\n",
    "        labels.append(lb)\n",
    "        counts +=1\n",
    "        \n",
    "        if len(split_line)<1:\n",
    "            dropped +=1\n",
    "#             print(\"sentence:\",idx)\n",
    "            continue\n",
    "        \n",
    "        if max_length:\n",
    "            if len(split_line)>max_length:\n",
    "                dropped +=1\n",
    "                continue\n",
    "        \n",
    "        \n",
    "        ftrain_t.write(line)\n",
    "        if lb==0:\n",
    "            ftrain_a.write('negative\\n')\n",
    "        else:\n",
    "            ftrain_a.write('positive\\n')\n",
    "\n",
    "    return length_counts,sen,labels,dropped,counts\n",
    "        \n",
    "        \n",
    "    \n",
    "    "
   ]
  },
  {
   "cell_type": "code",
   "execution_count": 299,
   "id": "b8536cfc",
   "metadata": {},
   "outputs": [],
   "source": [
    "example=train[:1000]"
   ]
  },
  {
   "cell_type": "code",
   "execution_count": 300,
   "id": "2faf7be2",
   "metadata": {},
   "outputs": [
    {
     "data": {
      "text/html": [
       "<div>\n",
       "<style scoped>\n",
       "    .dataframe tbody tr th:only-of-type {\n",
       "        vertical-align: middle;\n",
       "    }\n",
       "\n",
       "    .dataframe tbody tr th {\n",
       "        vertical-align: top;\n",
       "    }\n",
       "\n",
       "    .dataframe thead th {\n",
       "        text-align: right;\n",
       "    }\n",
       "</style>\n",
       "<table border=\"1\" class=\"dataframe\">\n",
       "  <thead>\n",
       "    <tr style=\"text-align: right;\">\n",
       "      <th></th>\n",
       "      <th>stars</th>\n",
       "      <th>text</th>\n",
       "      <th>label</th>\n",
       "    </tr>\n",
       "  </thead>\n",
       "  <tbody>\n",
       "    <tr>\n",
       "      <th>962401</th>\n",
       "      <td>1.0</td>\n",
       "      <td>Never called me back.  I called 2x with messag...</td>\n",
       "      <td>0.0</td>\n",
       "    </tr>\n",
       "    <tr>\n",
       "      <th>1244435</th>\n",
       "      <td>1.0</td>\n",
       "      <td>Agero is THE WORST company I've ever dealt wit...</td>\n",
       "      <td>0.0</td>\n",
       "    </tr>\n",
       "    <tr>\n",
       "      <th>787146</th>\n",
       "      <td>1.0</td>\n",
       "      <td>Wow.  I wish I had read Yelp before I called. ...</td>\n",
       "      <td>0.0</td>\n",
       "    </tr>\n",
       "    <tr>\n",
       "      <th>1002647</th>\n",
       "      <td>1.0</td>\n",
       "      <td>They will take your money, say you didn't pay ...</td>\n",
       "      <td>0.0</td>\n",
       "    </tr>\n",
       "    <tr>\n",
       "      <th>843472</th>\n",
       "      <td>1.0</td>\n",
       "      <td>Right now, I'm currently waiting in line for t...</td>\n",
       "      <td>0.0</td>\n",
       "    </tr>\n",
       "    <tr>\n",
       "      <th>...</th>\n",
       "      <td>...</td>\n",
       "      <td>...</td>\n",
       "      <td>...</td>\n",
       "    </tr>\n",
       "    <tr>\n",
       "      <th>1259991</th>\n",
       "      <td>1.0</td>\n",
       "      <td>Such a shitty and ghettos place. I brought a l...</td>\n",
       "      <td>0.0</td>\n",
       "    </tr>\n",
       "    <tr>\n",
       "      <th>1078450</th>\n",
       "      <td>1.0</td>\n",
       "      <td>Service was great. Hosts are very warm and wel...</td>\n",
       "      <td>0.0</td>\n",
       "    </tr>\n",
       "    <tr>\n",
       "      <th>691993</th>\n",
       "      <td>1.0</td>\n",
       "      <td>I wish this unprofessional, hard to call it \"c...</td>\n",
       "      <td>0.0</td>\n",
       "    </tr>\n",
       "    <tr>\n",
       "      <th>1166289</th>\n",
       "      <td>1.0</td>\n",
       "      <td>I waited over an hour for the restaurant to de...</td>\n",
       "      <td>0.0</td>\n",
       "    </tr>\n",
       "    <tr>\n",
       "      <th>998026</th>\n",
       "      <td>1.0</td>\n",
       "      <td>This place should definitely be SHUT DOWN. I d...</td>\n",
       "      <td>0.0</td>\n",
       "    </tr>\n",
       "  </tbody>\n",
       "</table>\n",
       "<p>100 rows × 3 columns</p>\n",
       "</div>"
      ],
      "text/plain": [
       "         stars                                               text  label\n",
       "962401     1.0  Never called me back.  I called 2x with messag...    0.0\n",
       "1244435    1.0  Agero is THE WORST company I've ever dealt wit...    0.0\n",
       "787146     1.0  Wow.  I wish I had read Yelp before I called. ...    0.0\n",
       "1002647    1.0  They will take your money, say you didn't pay ...    0.0\n",
       "843472     1.0  Right now, I'm currently waiting in line for t...    0.0\n",
       "...        ...                                                ...    ...\n",
       "1259991    1.0  Such a shitty and ghettos place. I brought a l...    0.0\n",
       "1078450    1.0  Service was great. Hosts are very warm and wel...    0.0\n",
       "691993     1.0  I wish this unprofessional, hard to call it \"c...    0.0\n",
       "1166289    1.0  I waited over an hour for the restaurant to de...    0.0\n",
       "998026     1.0  This place should definitely be SHUT DOWN. I d...    0.0\n",
       "\n",
       "[100 rows x 3 columns]"
      ]
     },
     "execution_count": 300,
     "metadata": {},
     "output_type": "execute_result"
    }
   ],
   "source": [
    "train[:100]"
   ]
  },
  {
   "cell_type": "code",
   "execution_count": 301,
   "id": "6185ef1a",
   "metadata": {
    "scrolled": false
   },
   "outputs": [],
   "source": [
    "lc_e,sen_e,labels_e,dropped,_=write_file(example,'e_text','e_attr')"
   ]
  },
  {
   "cell_type": "code",
   "execution_count": 302,
   "id": "41b3e945",
   "metadata": {},
   "outputs": [
    {
     "data": {
      "text/plain": [
       "855"
      ]
     },
     "execution_count": 302,
     "metadata": {},
     "output_type": "execute_result"
    }
   ],
   "source": [
    "dropped"
   ]
  },
  {
   "cell_type": "code",
   "execution_count": 96,
   "id": "b6ef2b33",
   "metadata": {
    "scrolled": false
   },
   "outputs": [
    {
     "data": {
      "text/plain": [
       "'I am totally disgusted with this company and would highly recommend against buying from these people!!!!!!i would not recommend shopping here. this company does not stand behind the product they deliver, unlike many other dealerships that sell used vehicles. we spent almost 15k on a 2007 nissan maxima with 67 thousand miles. after buying the car on monday, we noticed that the gas gauge was not working properly. we notified them immediately on tuesday and they acted like it would be taken care of. upon dropping the car off for them to replace a part for the ac that they were working on before purchasing the vehicle. we showed up today to pick the car, and they did not even address the issue. all i got out of these people was you are buying this car \"as is no warranty\". they said they had no previous knowledge of the gas gauge not working. we looked at the paperwork on the vehicle in the dash, called the nissan dealership where it was purchased and they were fully aware of the issue. so basically, if you buy a vehicle from these people, be prepared to find any issues within the first 3 days of signing your papers, and threaten to return the vehicle if it is not fixed, or nothing will be done.  I am totally disgusted with this company and would highly recommend against buying from these people!!!!!!'"
      ]
     },
     "execution_count": 96,
     "metadata": {},
     "output_type": "execute_result"
    }
   ],
   "source": [
    "clean_txt(exa_text)"
   ]
  },
  {
   "cell_type": "code",
   "execution_count": 66,
   "id": "d9a623cb",
   "metadata": {
    "scrolled": true
   },
   "outputs": [
    {
     "data": {
      "text/plain": [
       "[52,\n",
       " 172,\n",
       " 198,\n",
       " 142,\n",
       " 283,\n",
       " 38,\n",
       " 263,\n",
       " 37,\n",
       " 436,\n",
       " 206,\n",
       " 312,\n",
       " 164,\n",
       " 200,\n",
       " 86,\n",
       " 146,\n",
       " 304,\n",
       " 51,\n",
       " 244,\n",
       " 182,\n",
       " 94,\n",
       " 111,\n",
       " 58,\n",
       " 60,\n",
       " 332,\n",
       " 40,\n",
       " 58,\n",
       " 50,\n",
       " 252,\n",
       " 216,\n",
       " 159,\n",
       " 104,\n",
       " 80,\n",
       " 148,\n",
       " 186,\n",
       " 136,\n",
       " 44,\n",
       " 67,\n",
       " 240,\n",
       " 132,\n",
       " 228,\n",
       " 42,\n",
       " 38,\n",
       " 158,\n",
       " 153,\n",
       " 46,\n",
       " 142,\n",
       " 64,\n",
       " 140,\n",
       " 124,\n",
       " 234,\n",
       " 492,\n",
       " 233,\n",
       " 282,\n",
       " 346,\n",
       " 110,\n",
       " 2,\n",
       " 200,\n",
       " 151,\n",
       " 64,\n",
       " 164,\n",
       " 230,\n",
       " 58,\n",
       " 50,\n",
       " 42,\n",
       " 164,\n",
       " 130,\n",
       " 110,\n",
       " 30,\n",
       " 194,\n",
       " 38,\n",
       " 40,\n",
       " 160,\n",
       " 46,\n",
       " 78,\n",
       " 226,\n",
       " 250,\n",
       " 360,\n",
       " 21,\n",
       " 184,\n",
       " 528,\n",
       " 36,\n",
       " 260,\n",
       " 154,\n",
       " 92,\n",
       " 81,\n",
       " 83,\n",
       " 666,\n",
       " 318,\n",
       " 96,\n",
       " 92,\n",
       " 74,\n",
       " 398,\n",
       " 40,\n",
       " 46,\n",
       " 51,\n",
       " 148,\n",
       " 128,\n",
       " 70,\n",
       " 114,\n",
       " 221]"
      ]
     },
     "execution_count": 66,
     "metadata": {},
     "output_type": "execute_result"
    }
   ],
   "source": [
    "lc_e"
   ]
  },
  {
   "cell_type": "code",
   "execution_count": 40,
   "id": "c366d8d3",
   "metadata": {
    "scrolled": true
   },
   "outputs": [
    {
     "data": {
      "text/plain": [
       "156.03"
      ]
     },
     "execution_count": 40,
     "metadata": {},
     "output_type": "execute_result"
    }
   ],
   "source": [
    "sum(lc_e)/len(lc_e)"
   ]
  },
  {
   "cell_type": "code",
   "execution_count": 41,
   "id": "1f7a491b",
   "metadata": {},
   "outputs": [
    {
     "data": {
      "text/plain": [
       "81"
      ]
     },
     "execution_count": 41,
     "metadata": {},
     "output_type": "execute_result"
    }
   ],
   "source": [
    "dropped"
   ]
  },
  {
   "cell_type": "code",
   "execution_count": 42,
   "id": "1a96b60b",
   "metadata": {},
   "outputs": [
    {
     "data": {
      "text/plain": [
       "100"
      ]
     },
     "execution_count": 42,
     "metadata": {},
     "output_type": "execute_result"
    }
   ],
   "source": [
    "len(example)"
   ]
  },
  {
   "cell_type": "code",
   "execution_count": 54,
   "id": "9dc4b802",
   "metadata": {},
   "outputs": [
    {
     "data": {
      "text/plain": [
       "'never called me back.  i called 2x with messages.  oh well, the place looks amazing. we moved on and found a fresh dermatologist up the road'"
      ]
     },
     "execution_count": 54,
     "metadata": {},
     "output_type": "execute_result"
    }
   ],
   "source": [
    "sen_e[0]"
   ]
  },
  {
   "cell_type": "code",
   "execution_count": 55,
   "id": "52d8e7fa",
   "metadata": {},
   "outputs": [
    {
     "data": {
      "text/plain": [
       "962401    Never called me back.  I called 2x with messag...\n",
       "Name: text, dtype: object"
      ]
     },
     "execution_count": 55,
     "metadata": {},
     "output_type": "execute_result"
    }
   ],
   "source": [
    "example['text'].head(1)"
   ]
  },
  {
   "cell_type": "code",
   "execution_count": 262,
   "id": "3cb4c99f",
   "metadata": {},
   "outputs": [],
   "source": [
    "lc_s1,sen_s1,labels_s1,dropped_s1,counts_s1=write_file(dev,'dev_30.txt','dev_30.attr',max_length=30)"
   ]
  },
  {
   "cell_type": "code",
   "execution_count": 263,
   "id": "5e472055",
   "metadata": {},
   "outputs": [],
   "source": [
    "lc_s2,sen_s2,labels_s2,dropped_s2,counts_s2=write_file(train,'train_30.txt','train_30.attr',max_length=30)"
   ]
  },
  {
   "cell_type": "code",
   "execution_count": 264,
   "id": "ba195595",
   "metadata": {},
   "outputs": [],
   "source": [
    "lc_s3,sen_s3,labels_s3,dropped_s3,counts_s3=write_file(test,'test_30.txt','test_30.attr',max_length=30)"
   ]
  },
  {
   "cell_type": "code",
   "execution_count": 260,
   "id": "240a0e3a",
   "metadata": {},
   "outputs": [],
   "source": [
    "record=dropped_s1/counts_s1,dropped_s2/counts_s2,dropped_s3/counts_s3"
   ]
  },
  {
   "cell_type": "code",
   "execution_count": 261,
   "id": "e8353ac3",
   "metadata": {},
   "outputs": [
    {
     "data": {
      "text/plain": [
       "(0.9479018541204647, 0.947981025460232, 0.9483252024193818)"
      ]
     },
     "execution_count": 261,
     "metadata": {},
     "output_type": "execute_result"
    }
   ],
   "source": [
    "record"
   ]
  },
  {
   "cell_type": "code",
   "execution_count": null,
   "id": "25699660",
   "metadata": {},
   "outputs": [],
   "source": []
  },
  {
   "cell_type": "code",
   "execution_count": null,
   "id": "3789d3bc",
   "metadata": {},
   "outputs": [],
   "source": []
  }
 ],
 "metadata": {
  "kernelspec": {
   "display_name": "Python 3 (ipykernel)",
   "language": "python",
   "name": "python3"
  },
  "language_info": {
   "codemirror_mode": {
    "name": "ipython",
    "version": 3
   },
   "file_extension": ".py",
   "mimetype": "text/x-python",
   "name": "python",
   "nbconvert_exporter": "python",
   "pygments_lexer": "ipython3",
   "version": "3.8.11"
  }
 },
 "nbformat": 4,
 "nbformat_minor": 5
}
